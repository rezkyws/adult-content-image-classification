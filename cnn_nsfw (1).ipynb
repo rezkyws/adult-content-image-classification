{
  "nbformat": 4,
  "nbformat_minor": 0,
  "metadata": {
    "colab": {
      "name": "cnn_nsfw.ipynb",
      "provenance": []
    },
    "kernelspec": {
      "name": "python3",
      "display_name": "Python 3"
    },
    "accelerator": "GPU"
  },
  "cells": [
    {
      "cell_type": "code",
      "metadata": {
        "id": "C1OmRDpBitBQ",
        "outputId": "d91b92ab-787d-4885-8554-07ae3fc61442",
        "colab": {
          "base_uri": "https://localhost:8080/",
          "height": 35
        }
      },
      "source": [
        "from google.colab import drive\n",
        "drive.mount('/content/gdrive')"
      ],
      "execution_count": null,
      "outputs": [
        {
          "output_type": "stream",
          "text": [
            "Mounted at /content/gdrive\n"
          ],
          "name": "stdout"
        }
      ]
    },
    {
      "cell_type": "code",
      "metadata": {
        "id": "Trrp-N8UljvU"
      },
      "source": [
        "import os\n",
        "os.environ['KAGGLE_CONFIG_DIR'] = \"/content/gdrive/My Drive/Kaggle\""
      ],
      "execution_count": null,
      "outputs": []
    },
    {
      "cell_type": "code",
      "metadata": {
        "id": "TYnfrqpwlnNy",
        "outputId": "09d9c617-302d-4f07-f137-fa83773e5577",
        "colab": {
          "base_uri": "https://localhost:8080/",
          "height": 35
        }
      },
      "source": [
        "%cd /content/gdrive/My Drive/Kaggle"
      ],
      "execution_count": null,
      "outputs": [
        {
          "output_type": "stream",
          "text": [
            "/content/gdrive/My Drive/Kaggle\n"
          ],
          "name": "stdout"
        }
      ]
    },
    {
      "cell_type": "code",
      "metadata": {
        "id": "o130bCQplst6",
        "outputId": "12e19f4c-6e83-40d3-c01c-a4a0fcc48bdb",
        "colab": {
          "base_uri": "https://localhost:8080/",
          "height": 72
        }
      },
      "source": [
        "!kaggle datasets download -d krishnaalagiri/nsfw-image-classification"
      ],
      "execution_count": null,
      "outputs": [
        {
          "output_type": "stream",
          "text": [
            "Downloading nsfw-image-classification.zip to /content/gdrive/My Drive/Kaggle\n",
            "100% 4.19G/4.20G [00:57<00:00, 121MB/s]\n",
            "100% 4.20G/4.20G [00:57<00:00, 78.8MB/s]\n"
          ],
          "name": "stdout"
        }
      ]
    },
    {
      "cell_type": "code",
      "metadata": {
        "id": "4Rqzf-x1lxFg",
        "outputId": "39c9f3b3-6398-45a8-93ed-01fea588fba7",
        "colab": {
          "base_uri": "https://localhost:8080/",
          "height": 146
        }
      },
      "source": [
        "!ls"
      ],
      "execution_count": null,
      "outputs": [
        {
          "output_type": "stream",
          "text": [
            " base.model\t\t kaggle.json\n",
            " blood-cells.zip\t logs\n",
            " eurusd_hour.csv\t new-plant-diseases-dataset.zip\n",
            " eurusd_minute.csv\t nsfw-image-classification.zip\n",
            " eurusd_news.csv\t'Old data'\n",
            " fruit-recognition.zip\t training_csv.log\n",
            " fruits.zip\n"
          ],
          "name": "stdout"
        }
      ]
    },
    {
      "cell_type": "code",
      "metadata": {
        "id": "2xLF1BmVpawD"
      },
      "source": [
        "import pandas as pd\n",
        "%matplotlib inline\n",
        "import os,shutil,math,scipy,cv2\n",
        "import numpy as np\n",
        "import matplotlib.pyplot as plt\n",
        "import random as rn\n",
        "import zipfile, os\n",
        "import tensorflow as tf\n",
        "from os import listdir, makedirs\n",
        "from os.path import join, exists, expanduser\n",
        "from tensorflow.keras.optimizers import RMSprop\n",
        "from keras import backend as K\n",
        "from tensorflow.keras.preprocessing.image import ImageDataGenerator\n",
        "from tensorflow.keras.callbacks import ModelCheckpoint,EarlyStopping,TensorBoard,CSVLogger,ReduceLROnPlateau,LearningRateScheduler\n",
        "from keras.applications.vgg16 import decode_predictions\n",
        "from keras.applications.vgg16 import preprocess_input\n",
        "from keras.applications.vgg16 import VGG16"
      ],
      "execution_count": null,
      "outputs": []
    },
    {
      "cell_type": "code",
      "metadata": {
        "id": "b3NpkbVyoLMy"
      },
      "source": [
        "import zipfile\n",
        "local_zip = 'nsfw-image-classification.zip'\n",
        "zip_ref = zipfile.ZipFile(local_zip, 'r')\n",
        "zip_ref.extractall('/tmp/dataset')\n",
        "zip_ref.close()"
      ],
      "execution_count": null,
      "outputs": []
    },
    {
      "cell_type": "code",
      "metadata": {
        "id": "JXfqIxbnWiA2",
        "outputId": "abaebb7b-84d4-4226-83ec-363ffa8042e8",
        "colab": {
          "base_uri": "https://localhost:8080/",
          "height": 35
        }
      },
      "source": [
        "base_dir= '/tmp/dataset/'\n",
        "os.listdir(base_dir)"
      ],
      "execution_count": null,
      "outputs": [
        {
          "output_type": "execute_result",
          "data": {
            "text/plain": [
              "['test', 'train', 'val', 'README.txt']"
            ]
          },
          "metadata": {
            "tags": []
          },
          "execution_count": 9
        }
      ]
    },
    {
      "cell_type": "code",
      "metadata": {
        "id": "QaZhcLjXo8eJ"
      },
      "source": [
        "train_dir = '/tmp/dataset/train'\n",
        "val_dir = '/tmp/dataset/val'\n",
        "test_dir = '/tmp/dataset/test'"
      ],
      "execution_count": null,
      "outputs": []
    },
    {
      "cell_type": "code",
      "metadata": {
        "id": "44HE9K32peeA"
      },
      "source": [
        "# for vizualisation loss and accuracy\n",
        "def show_final_history(history):\n",
        "    fig, ax = plt.subplots(1, 2, figsize=(15,5))\n",
        "    ax[0].set_title('loss')\n",
        "    ax[0].plot(history.epoch, history.history[\"loss\"], label=\"Train loss\")\n",
        "    ax[0].plot(history.epoch, history.history[\"val_loss\"], label=\"Validation loss\")\n",
        "    ax[1].set_title('accuracy')\n",
        "    ax[1].plot(history.epoch, history.history[\"accuracy\"], label=\"Train acc\")\n",
        "    ax[1].plot(history.epoch, history.history[\"val_accuracy\"], label=\"Validation acc\")\n",
        "    ax[0].legend()\n",
        "    ax[1].legend()"
      ],
      "execution_count": null,
      "outputs": []
    },
    {
      "cell_type": "code",
      "metadata": {
        "id": "RnAEi9FcdtRQ",
        "outputId": "340d5ae3-0626-4c85-f9b0-e9e1ba142f3f",
        "colab": {
          "base_uri": "https://localhost:8080/",
          "height": 54
        }
      },
      "source": [
        "from tensorflow.keras.preprocessing.image import ImageDataGenerator\n",
        "\n",
        "train_datagen = ImageDataGenerator(\n",
        "    rescale=1./255,\n",
        "    rotation_range=20,\n",
        "    zoom_range=0.2,\n",
        "    width_shift_range=0.2,\n",
        "    height_shift_range=0.2,\n",
        "    horizontal_flip=True,\n",
        "    shear_range=0.2,\n",
        "    fill_mode = 'nearest',\n",
        "    validation_split=0.2) # set validation split\n",
        "\n",
        "train_generator = train_datagen.flow_from_directory(\n",
        "    train_dir,\n",
        "    target_size=(224, 224),\n",
        "    batch_size=32,\n",
        "    class_mode='categorical',\n",
        "    subset='training') # set as training data\n",
        "\n",
        "validation_generator = train_datagen.flow_from_directory(\n",
        "    train_dir, # same directory as training data\n",
        "    target_size=(224, 224),\n",
        "    batch_size=32,\n",
        "    class_mode='categorical',\n",
        "    subset='validation')"
      ],
      "execution_count": null,
      "outputs": [
        {
          "output_type": "stream",
          "text": [
            "Found 187189 images belonging to 5 classes.\n",
            "Found 46795 images belonging to 5 classes.\n"
          ],
          "name": "stdout"
        }
      ]
    },
    {
      "cell_type": "code",
      "metadata": {
        "id": "i9s8AO32fqCZ"
      },
      "source": [
        "import tensorflow as tf\n",
        "from tensorflow.keras.layers import Input\n",
        "from tensorflow.keras.applications import ResNet50\n",
        "from tensorflow.keras.applications import ResNet152V2\n",
        "model = tf.keras.models.Sequential([\n",
        "    ResNet152V2(weights=\"imagenet\", include_top=False, input_tensor=Input(shape=(224, 224, 3))),\n",
        "    # tf.keras.layers.Conv2D(16, (3,3), activation='relu', input_shape=(150, 150, 3)),\n",
        "    tf.keras.layers.Flatten(), \n",
        "    tf.keras.layers.Dense(512, activation='relu'),\n",
        "    tf.keras.layers.Dropout(0.5),\n",
        "    tf.keras.layers.Dense(256, activation='relu'),\n",
        "    tf.keras.layers.Dropout(0.25),\n",
        "    tf.keras.layers.Dense(5, activation='softmax')  \n",
        "])\n",
        "model.layers[0].trainable = False"
      ],
      "execution_count": null,
      "outputs": []
    },
    {
      "cell_type": "code",
      "metadata": {
        "id": "A16xXas7gnK4",
        "outputId": "461fd6f4-4447-4456-a0c3-4341d771e694",
        "colab": {
          "base_uri": "https://localhost:8080/",
          "height": 421
        }
      },
      "source": [
        "model.summary()"
      ],
      "execution_count": null,
      "outputs": [
        {
          "output_type": "stream",
          "text": [
            "Model: \"sequential\"\n",
            "_________________________________________________________________\n",
            "Layer (type)                 Output Shape              Param #   \n",
            "=================================================================\n",
            "resnet152v2 (Functional)     (None, 7, 7, 2048)        58331648  \n",
            "_________________________________________________________________\n",
            "flatten_1 (Flatten)          (None, 100352)            0         \n",
            "_________________________________________________________________\n",
            "dense_1 (Dense)              (None, 512)               51380736  \n",
            "_________________________________________________________________\n",
            "dropout (Dropout)            (None, 512)               0         \n",
            "_________________________________________________________________\n",
            "dense_2 (Dense)              (None, 256)               131328    \n",
            "_________________________________________________________________\n",
            "dropout_1 (Dropout)          (None, 256)               0         \n",
            "_________________________________________________________________\n",
            "dense_3 (Dense)              (None, 5)                 1285      \n",
            "=================================================================\n",
            "Total params: 109,844,997\n",
            "Trainable params: 51,513,349\n",
            "Non-trainable params: 58,331,648\n",
            "_________________________________________________________________\n"
          ],
          "name": "stdout"
        }
      ]
    },
    {
      "cell_type": "code",
      "metadata": {
        "id": "oXfoETxngLwl"
      },
      "source": [
        "model.compile(optimizer=tf.optimizers.Adam(),\n",
        "              loss='categorical_crossentropy',\n",
        "              metrics = ['accuracy'])"
      ],
      "execution_count": null,
      "outputs": []
    },
    {
      "cell_type": "code",
      "metadata": {
        "id": "X-MmFvXEgZZY"
      },
      "source": [
        "# Callbacks\n",
        "from tensorflow.keras.callbacks import ModelCheckpoint,EarlyStopping,TensorBoard,CSVLogger,ReduceLROnPlateau,LearningRateScheduler\n",
        "\n",
        "class myCallback(tf.keras.callbacks.Callback):\n",
        "  def on_epoch_end(self, epoch, logs={}):\n",
        "    if(logs.get('accuracy')>0.92):\n",
        "      print(\"\\nAccuration's reached > 92%!\")\n",
        "      self.model.stop_training = True\n",
        "accuration_check = myCallback()\n",
        "\n",
        "best_model_weights = './base.model'\n",
        "checkpoint = ModelCheckpoint(\n",
        "    best_model_weights,\n",
        "    monitor='val_loss',\n",
        "    verbose=1,\n",
        "    save_best_only=True,\n",
        "    mode='min',\n",
        "    save_weights_only=False,\n",
        ")\n",
        "earlystop = EarlyStopping(\n",
        "    monitor='val_loss',\n",
        "    min_delta=0.001,\n",
        "    patience=10,\n",
        "    verbose=1,\n",
        "    mode='auto'\n",
        ")\n",
        "tensorboard = TensorBoard(\n",
        "    log_dir = './logs',\n",
        "    histogram_freq=0,\n",
        "    write_graph=True,\n",
        "    write_images=False,\n",
        ")\n",
        "\n",
        "csvlogger = CSVLogger(\n",
        "    filename= \"training_csv.log\",\n",
        "    separator = \",\",\n",
        "    append = False\n",
        ")\n",
        "\n",
        "reduce = ReduceLROnPlateau(\n",
        "    monitor='val_loss',\n",
        "    factor=0.5,\n",
        "    patience=40,\n",
        "    verbose=1, \n",
        "    mode='auto',\n",
        "    cooldown=1 \n",
        ")\n",
        "\n",
        "callbacks = [checkpoint,tensorboard,csvlogger,reduce]"
      ],
      "execution_count": null,
      "outputs": []
    },
    {
      "cell_type": "code",
      "metadata": {
        "id": "WXkP_R4ug8sA",
        "outputId": "861bf429-fa86-4869-97d2-97516d583299",
        "colab": {
          "base_uri": "https://localhost:8080/",
          "height": 1000
        }
      },
      "source": [
        "histori = model.fit(\n",
        "      train_generator, \n",
        "      steps_per_epoch=312,\n",
        "      epochs=30,\n",
        "      validation_data=validation_generator, \n",
        "      verbose=1,\n",
        "      callbacks=[callbacks,accuration_check])"
      ],
      "execution_count": null,
      "outputs": [
        {
          "output_type": "stream",
          "text": [
            "Epoch 1/30\n",
            "   1/5850 [..............................] - ETA: 0s - loss: 5.1812 - accuracy: 0.0625WARNING:tensorflow:From /usr/local/lib/python3.6/dist-packages/tensorflow/python/ops/summary_ops_v2.py:1277: stop (from tensorflow.python.eager.profiler) is deprecated and will be removed after 2020-07-01.\n",
            "Instructions for updating:\n",
            "use `tf.profiler.experimental.stop` instead.\n",
            "   2/5850 [..............................] - ETA: 36:01 - loss: 9.1961 - accuracy: 0.2500WARNING:tensorflow:Callbacks method `on_train_batch_end` is slow compared to the batch time (batch time: 0.2360s vs `on_train_batch_end` time: 0.5021s). Check your callbacks.\n",
            "5850/5850 [==============================] - ETA: 0s - loss: 0.6929 - accuracy: 0.8161\n",
            "Epoch 00001: val_loss improved from inf to 0.74331, saving model to ./base.model\n",
            "WARNING:tensorflow:From /usr/local/lib/python3.6/dist-packages/tensorflow/python/training/tracking/tracking.py:111: Model.state_updates (from tensorflow.python.keras.engine.training) is deprecated and will be removed in a future version.\n",
            "Instructions for updating:\n",
            "This property should not be used in TensorFlow 2.0, as updates are applied automatically.\n",
            "WARNING:tensorflow:From /usr/local/lib/python3.6/dist-packages/tensorflow/python/training/tracking/tracking.py:111: Layer.updates (from tensorflow.python.keras.engine.base_layer) is deprecated and will be removed in a future version.\n",
            "Instructions for updating:\n",
            "This property should not be used in TensorFlow 2.0, as updates are applied automatically.\n",
            "INFO:tensorflow:Assets written to: ./base.model/assets\n",
            "5850/5850 [==============================] - 3254s 556ms/step - loss: 0.6929 - accuracy: 0.8161 - val_loss: 0.7433 - val_accuracy: 0.7552\n",
            "Epoch 2/30\n",
            "5850/5850 [==============================] - ETA: 0s - loss: 0.4149 - accuracy: 0.8716\n",
            "Epoch 00002: val_loss improved from 0.74331 to 0.65287, saving model to ./base.model\n",
            "INFO:tensorflow:Assets written to: ./base.model/assets\n",
            "5850/5850 [==============================] - 3247s 555ms/step - loss: 0.4149 - accuracy: 0.8716 - val_loss: 0.6529 - val_accuracy: 0.7893\n",
            "Epoch 3/30\n",
            "5850/5850 [==============================] - ETA: 0s - loss: 0.3992 - accuracy: 0.8788\n",
            "Epoch 00003: val_loss improved from 0.65287 to 0.64472, saving model to ./base.model\n",
            "INFO:tensorflow:Assets written to: ./base.model/assets\n",
            "5850/5850 [==============================] - 3258s 557ms/step - loss: 0.3992 - accuracy: 0.8788 - val_loss: 0.6447 - val_accuracy: 0.7891\n",
            "Epoch 4/30\n",
            "5850/5850 [==============================] - ETA: 0s - loss: 0.3911 - accuracy: 0.8840\n",
            "Epoch 00004: val_loss improved from 0.64472 to 0.61749, saving model to ./base.model\n",
            "INFO:tensorflow:Assets written to: ./base.model/assets\n",
            "5850/5850 [==============================] - 3273s 559ms/step - loss: 0.3911 - accuracy: 0.8840 - val_loss: 0.6175 - val_accuracy: 0.7853\n",
            "Epoch 5/30\n",
            "5850/5850 [==============================] - ETA: 0s - loss: 0.3837 - accuracy: 0.8855\n",
            "Epoch 00005: val_loss did not improve from 0.61749\n",
            "5850/5850 [==============================] - 3393s 580ms/step - loss: 0.3837 - accuracy: 0.8855 - val_loss: 0.6509 - val_accuracy: 0.7813\n",
            "Epoch 6/30\n",
            "5850/5850 [==============================] - ETA: 0s - loss: 0.3758 - accuracy: 0.8879\n",
            "Epoch 00006: val_loss improved from 0.61749 to 0.61522, saving model to ./base.model\n",
            "INFO:tensorflow:Assets written to: ./base.model/assets\n",
            "5850/5850 [==============================] - 3386s 579ms/step - loss: 0.3758 - accuracy: 0.8879 - val_loss: 0.6152 - val_accuracy: 0.7812\n",
            "Epoch 7/30\n",
            "5850/5850 [==============================] - ETA: 0s - loss: 0.3756 - accuracy: 0.8891\n",
            "Epoch 00007: val_loss improved from 0.61522 to 0.61464, saving model to ./base.model\n",
            "INFO:tensorflow:Assets written to: ./base.model/assets\n",
            "5850/5850 [==============================] - 3490s 597ms/step - loss: 0.3756 - accuracy: 0.8891 - val_loss: 0.6146 - val_accuracy: 0.8027\n",
            "Epoch 8/30\n",
            "5850/5850 [==============================] - ETA: 0s - loss: 0.3764 - accuracy: 0.8901\n",
            "Epoch 00008: val_loss improved from 0.61464 to 0.59399, saving model to ./base.model\n",
            "INFO:tensorflow:Assets written to: ./base.model/assets\n",
            "5850/5850 [==============================] - 3471s 593ms/step - loss: 0.3764 - accuracy: 0.8901 - val_loss: 0.5940 - val_accuracy: 0.8055\n",
            "Epoch 9/30\n",
            "5850/5850 [==============================] - ETA: 0s - loss: 0.3740 - accuracy: 0.8914\n",
            "Epoch 00009: val_loss did not improve from 0.59399\n",
            "5850/5850 [==============================] - 3383s 578ms/step - loss: 0.3740 - accuracy: 0.8914 - val_loss: 0.6067 - val_accuracy: 0.8041\n",
            "Epoch 10/30\n",
            "5104/5850 [=========================>....] - ETA: 5:32 - loss: 0.3715 - accuracy: 0.8904Buffered data was truncated after reaching the output size limit."
          ],
          "name": "stdout"
        }
      ]
    },
    {
      "cell_type": "code",
      "metadata": {
        "id": "itMc3l1IP9m4",
        "outputId": "152e212f-ea6a-476a-c68a-8027062cebd2",
        "colab": {
          "base_uri": "https://localhost:8080/",
          "height": 336
        }
      },
      "source": [
        "show_final_history(histori)\n",
        "model_json = model.to_json()"
      ],
      "execution_count": null,
      "outputs": [
        {
          "output_type": "display_data",
          "data": {
            "image/png": "[encoded data removed]",
            "text/plain": [
              "<Figure size 1080x360 with 2 Axes>"
            ]
          },
          "metadata": {
            "tags": [],
            "needs_background": "light"
          }
        }
      ]
    }
  ]
}